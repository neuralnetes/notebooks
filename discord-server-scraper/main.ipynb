{
 "cells": [
  {
   "cell_type": "code",
   "execution_count": 1,
   "metadata": {},
   "outputs": [],
   "source": [
    "from scraper import main\n",
    "    "
   ]
  },
  {
   "cell_type": "code",
   "execution_count": 2,
   "metadata": {
    "pycharm": {
     "name": "#%%\n"
    }
   },
   "outputs": [
    {
     "name": "stdout",
     "output_type": "stream",
     "text": [
      "NzgyMzQ1NDEyMzM3NDY3Mzky.X8K-Ow.LdzVIfwH0KFGokXPxtLfqrQbSVM False\n"
     ]
    },
    {
     "data": {
      "text/plain": [
       "<_GatheringFuture pending>"
      ]
     },
     "execution_count": 2,
     "metadata": {},
     "output_type": "execute_result"
    },
    {
     "name": "stdout",
     "output_type": "stream",
     "text": [
      "Logged on as discord-user#5284!\n",
      "general\n",
      "Message from lerms#1948: https://discord.gg/kzsNqaKW\n",
      "Message from Xtrades Welcomer#5899: \n",
      "Message from MEE6#4876: Welcome to Xtrades.  The largest and fastest growing active stocks and options trading channel on the web.  Since day one, our aim has been to provide all of the best alerts, indicators, strategies and techniques available on the web at the lowest prices possible. We have been alerting profitable trades since 2015.  Learn and grow with our team, where the results of the alerts and callouts are tracked.\n",
      "\n",
      "Please take a moment of your time to understand the terminology that we use for calling out trades that we open and close:\n",
      "\n",
      "BTO: Buy to Open\n",
      "STC: Sell to Close\n",
      "STO: Short to Open\n",
      "BTC: Buy to Close\n",
      "SL: Stop Loss\n",
      "PT: Price Target\n",
      "\n",
      "Check the #Start-here channel for more pertinent info on how our trading channel operates.  \n",
      "\n",
      "Type any message in <#750783812870602873> to begin your 3 week trial.\n",
      "Message from 913_kicks#9253: 😘\n"
     ]
    }
   ],
   "source": [
    "await main()"
   ]
  },
  {
   "cell_type": "code",
   "execution_count": null,
   "metadata": {
    "pycharm": {
     "name": "#%%\n"
    }
   },
   "outputs": [],
   "source": [
    "\n"
   ]
  }
 ],
 "metadata": {
  "kernelspec": {
   "display_name": "Python 3",
   "language": "python",
   "name": "python3"
  },
  "language_info": {
   "codemirror_mode": {
    "name": "ipython",
    "version": 3
   },
   "file_extension": ".py",
   "mimetype": "text/x-python",
   "name": "python",
   "nbconvert_exporter": "python",
   "pygments_lexer": "ipython3",
   "version": "3.9.0"
  }
 },
 "nbformat": 4,
 "nbformat_minor": 1
}